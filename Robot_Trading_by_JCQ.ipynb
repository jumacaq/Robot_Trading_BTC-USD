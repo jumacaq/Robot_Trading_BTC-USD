{
  "cells": [
    {
      "cell_type": "markdown",
      "metadata": {
        "id": "view-in-github",
        "colab_type": "text"
      },
      "source": [
        "<a href=\"https://colab.research.google.com/github/jumacaq/Robot_Trading_BTC-USD/blob/main/Robot_Trading_by_JCQ.ipynb\" target=\"_parent\"><img src=\"https://colab.research.google.com/assets/colab-badge.svg\" alt=\"Open In Colab\"/></a>"
      ]
    },
    {
      "cell_type": "markdown",
      "metadata": {
        "id": "Qw6gvexCaAd7"
      },
      "source": [
        "# **ROBOT TRADING BTC-USD**\n",
        "\n",
        "*autor: Juan Campos Quintana*\n",
        "\n",
        "El proyecto consiste en crear un **Robot Trading en Python** que tome decisiones de compra-venta de la principal criptomoneda del mercado, basadas en datos en tiempo real usando técnicas para extracción de datos desde una API, Web scraping, tratamiento y manipulación de datos con librerías Numpy y Pandas, y creación de gráficos con Matplotlib.\n",
        "\n",
        "El proyecto consta de 6 etapas que se muestran a continuación."
      ]
    },
    {
      "cell_type": "markdown",
      "metadata": {
        "id": "q2rzHj71X1cb"
      },
      "source": [
        "##1- Configuración de ambiente"
      ]
    },
    {
      "cell_type": "code",
      "execution_count": 3,
      "metadata": {
        "colab": {
          "base_uri": "https://localhost:8080/"
        },
        "id": "4GzB5lHmZ-zk",
        "outputId": "fdcae8ef-fffd-4841-9ba9-93de58857f93"
      },
      "outputs": [
        {
          "output_type": "stream",
          "name": "stdout",
          "text": [
            "Python 3.10.12\n"
          ]
        }
      ],
      "source": [
        "#Versión de python\n",
        "!python -V"
      ]
    },
    {
      "cell_type": "code",
      "execution_count": 4,
      "metadata": {
        "id": "z-36jIF6aCkM"
      },
      "outputs": [],
      "source": [
        "#Importamos las librerías necesarias para el proyecto\n",
        "import pandas as pd\n",
        "import numpy as np\n",
        "%matplotlib inline\n",
        "import matplotlib.pyplot as plt\n",
        "import yfinance as yf\n",
        "\n"
      ]
    },
    {
      "cell_type": "code",
      "execution_count": 5,
      "metadata": {
        "colab": {
          "base_uri": "https://localhost:8080/"
        },
        "id": "bVdraWSwabt0",
        "outputId": "979a367c-635f-41ff-f608-d134f61a898f"
      },
      "outputs": [
        {
          "output_type": "stream",
          "name": "stdout",
          "text": [
            "Name: pandas\n",
            "Version: 1.5.3\n"
          ]
        }
      ],
      "source": [
        "!pip show Pandas | grep 'Name\\|Version'"
      ]
    },
    {
      "cell_type": "code",
      "execution_count": 6,
      "metadata": {
        "colab": {
          "base_uri": "https://localhost:8080/"
        },
        "id": "a5Mi7SHtasDZ",
        "outputId": "86632ced-b28b-417b-9b92-7f9c8e45027e"
      },
      "outputs": [
        {
          "output_type": "stream",
          "name": "stdout",
          "text": [
            "Name: numpy\n",
            "Version: 1.23.5\n"
          ]
        }
      ],
      "source": [
        "!pip show Numpy | grep 'Name\\|Version'"
      ]
    },
    {
      "cell_type": "code",
      "execution_count": 7,
      "metadata": {
        "colab": {
          "base_uri": "https://localhost:8080/"
        },
        "id": "NtQfesHHawXV",
        "outputId": "a437e14c-0b90-4bf8-9d23-db48c4de4335"
      },
      "outputs": [
        {
          "output_type": "stream",
          "name": "stdout",
          "text": [
            "Name: matplotlib\n",
            "Version: 3.7.1\n"
          ]
        }
      ],
      "source": [
        "!pip show Matplotlib | grep 'Name\\|Version'"
      ]
    },
    {
      "cell_type": "code",
      "execution_count": 8,
      "metadata": {
        "colab": {
          "base_uri": "https://localhost:8080/"
        },
        "id": "9O82wK619R-t",
        "outputId": "ec24a18f-6480-444d-aab8-e98d06018bf7"
      },
      "outputs": [
        {
          "output_type": "stream",
          "name": "stdout",
          "text": [
            "Requirement already satisfied: yfinance in /usr/local/lib/python3.10/dist-packages (0.2.31)\n",
            "Requirement already satisfied: pandas>=1.3.0 in /usr/local/lib/python3.10/dist-packages (from yfinance) (1.5.3)\n",
            "Requirement already satisfied: numpy>=1.16.5 in /usr/local/lib/python3.10/dist-packages (from yfinance) (1.23.5)\n",
            "Requirement already satisfied: requests>=2.31 in /usr/local/lib/python3.10/dist-packages (from yfinance) (2.31.0)\n",
            "Requirement already satisfied: multitasking>=0.0.7 in /usr/local/lib/python3.10/dist-packages (from yfinance) (0.0.11)\n",
            "Requirement already satisfied: lxml>=4.9.1 in /usr/local/lib/python3.10/dist-packages (from yfinance) (4.9.3)\n",
            "Requirement already satisfied: appdirs>=1.4.4 in /usr/local/lib/python3.10/dist-packages (from yfinance) (1.4.4)\n",
            "Requirement already satisfied: pytz>=2022.5 in /usr/local/lib/python3.10/dist-packages (from yfinance) (2023.3.post1)\n",
            "Requirement already satisfied: frozendict>=2.3.4 in /usr/local/lib/python3.10/dist-packages (from yfinance) (2.3.8)\n",
            "Requirement already satisfied: peewee>=3.16.2 in /usr/local/lib/python3.10/dist-packages (from yfinance) (3.17.0)\n",
            "Requirement already satisfied: beautifulsoup4>=4.11.1 in /usr/local/lib/python3.10/dist-packages (from yfinance) (4.11.2)\n",
            "Requirement already satisfied: html5lib>=1.1 in /usr/local/lib/python3.10/dist-packages (from yfinance) (1.1)\n",
            "Requirement already satisfied: soupsieve>1.2 in /usr/local/lib/python3.10/dist-packages (from beautifulsoup4>=4.11.1->yfinance) (2.5)\n",
            "Requirement already satisfied: six>=1.9 in /usr/local/lib/python3.10/dist-packages (from html5lib>=1.1->yfinance) (1.16.0)\n",
            "Requirement already satisfied: webencodings in /usr/local/lib/python3.10/dist-packages (from html5lib>=1.1->yfinance) (0.5.1)\n",
            "Requirement already satisfied: python-dateutil>=2.8.1 in /usr/local/lib/python3.10/dist-packages (from pandas>=1.3.0->yfinance) (2.8.2)\n",
            "Requirement already satisfied: charset-normalizer<4,>=2 in /usr/local/lib/python3.10/dist-packages (from requests>=2.31->yfinance) (3.3.1)\n",
            "Requirement already satisfied: idna<4,>=2.5 in /usr/local/lib/python3.10/dist-packages (from requests>=2.31->yfinance) (3.4)\n",
            "Requirement already satisfied: urllib3<3,>=1.21.1 in /usr/local/lib/python3.10/dist-packages (from requests>=2.31->yfinance) (2.0.7)\n",
            "Requirement already satisfied: certifi>=2017.4.17 in /usr/local/lib/python3.10/dist-packages (from requests>=2.31->yfinance) (2023.7.22)\n"
          ]
        }
      ],
      "source": [
        "!pip install yfinance"
      ]
    },
    {
      "cell_type": "code",
      "execution_count": 9,
      "metadata": {
        "id": "DQG_YwwefDfp"
      },
      "outputs": [],
      "source": [
        "#Definimos las variables globales\n",
        "global df_bitcoin, precio_actual, tendencia, media_bitcoin,  algoritmo_decision"
      ]
    },
    {
      "cell_type": "markdown",
      "metadata": {
        "id": "49MIUCicYBjV"
      },
      "source": [
        "##2- Obtención de datos"
      ]
    },
    {
      "cell_type": "markdown",
      "metadata": {
        "id": "FSbwEJS0dsg2"
      },
      "source": [
        "###2.1- Precio histórico del Bitcoin\n",
        "\n",
        "Lo obtendremos extrayendo el precio histórico del Bitcoin desde la API de Yahoo Finance utilizando la librería `yfinance` de Python, esta variable la guardaremos en la función `importar_base_bitcoin()`"
      ]
    },
    {
      "cell_type": "code",
      "execution_count": 10,
      "metadata": {
        "id": "7ThG-btOfqiQ"
      },
      "outputs": [],
      "source": [
        "#Creamos la función importar_base_bitcoin() que retornará el DataFrame con el precio histórico del Bitcoin\n",
        "def importar_base_bitcoin():\n",
        "  global df_bitcoin, precio_actual, tendencia, media_bitcoin,  algoritmo_decision\n",
        "  data = yf.download(\"BTC-USD\", period=\"7d\",interval=\"5m\")\n",
        "  df_bitcoin = pd.DataFrame(data)\n",
        "  return df_bitcoin"
      ]
    },
    {
      "cell_type": "code",
      "execution_count": 11,
      "metadata": {
        "colab": {
          "base_uri": "https://localhost:8080/",
          "height": 472
        },
        "id": "6q2EdiNiKuN3",
        "outputId": "981bb7a2-235b-4d19-c7a6-6901efaac2db"
      },
      "outputs": [
        {
          "output_type": "stream",
          "name": "stdout",
          "text": [
            "\r[*********************100%%**********************]  1 of 1 completed\n"
          ]
        },
        {
          "output_type": "execute_result",
          "data": {
            "text/plain": [
              "                                   Open          High           Low  \\\n",
              "Datetime                                                              \n",
              "2023-10-26 00:00:00+00:00  34504.289062  34509.437500  34474.312500   \n",
              "2023-10-26 00:05:00+00:00  34521.175781  34521.175781  34474.617188   \n",
              "2023-10-26 00:10:00+00:00  34496.804688  34527.507812  34484.953125   \n",
              "2023-10-26 00:15:00+00:00  34533.218750  34543.382812  34524.519531   \n",
              "2023-10-26 00:20:00+00:00  34548.535156  34554.820312  34537.343750   \n",
              "...                                 ...           ...           ...   \n",
              "2023-11-01 21:15:00+00:00  35323.398438  35411.652344  35323.398438   \n",
              "2023-11-01 21:20:00+00:00  35369.101562  35389.566406  35322.093750   \n",
              "2023-11-01 21:25:00+00:00  35337.890625  35351.648438  35284.269531   \n",
              "2023-11-01 21:30:00+00:00  35350.406250  35350.406250  35302.824219   \n",
              "2023-11-01 21:35:00+00:00  35296.148438  35296.148438  35284.285156   \n",
              "\n",
              "                                  Close     Adj Close     Volume  \n",
              "Datetime                                                          \n",
              "2023-10-26 00:00:00+00:00  34509.437500  34509.437500          0  \n",
              "2023-10-26 00:05:00+00:00  34505.679688  34505.679688          0  \n",
              "2023-10-26 00:10:00+00:00  34527.507812  34527.507812     317440  \n",
              "2023-10-26 00:15:00+00:00  34543.382812  34543.382812          0  \n",
              "2023-10-26 00:20:00+00:00  34554.820312  34554.820312          0  \n",
              "...                                 ...           ...        ...  \n",
              "2023-11-01 21:15:00+00:00  35387.015625  35387.015625  237277184  \n",
              "2023-11-01 21:20:00+00:00  35348.906250  35348.906250   66127872  \n",
              "2023-11-01 21:25:00+00:00  35351.648438  35351.648438   52721664  \n",
              "2023-11-01 21:30:00+00:00  35309.125000  35309.125000   38596608  \n",
              "2023-11-01 21:35:00+00:00  35284.285156  35284.285156    4532224  \n",
              "\n",
              "[1984 rows x 6 columns]"
            ],
            "text/html": [
              "\n",
              "  <div id=\"df-6a3fdb61-9e18-44e9-8f62-002564ffa4b8\" class=\"colab-df-container\">\n",
              "    <div>\n",
              "<style scoped>\n",
              "    .dataframe tbody tr th:only-of-type {\n",
              "        vertical-align: middle;\n",
              "    }\n",
              "\n",
              "    .dataframe tbody tr th {\n",
              "        vertical-align: top;\n",
              "    }\n",
              "\n",
              "    .dataframe thead th {\n",
              "        text-align: right;\n",
              "    }\n",
              "</style>\n",
              "<table border=\"1\" class=\"dataframe\">\n",
              "  <thead>\n",
              "    <tr style=\"text-align: right;\">\n",
              "      <th></th>\n",
              "      <th>Open</th>\n",
              "      <th>High</th>\n",
              "      <th>Low</th>\n",
              "      <th>Close</th>\n",
              "      <th>Adj Close</th>\n",
              "      <th>Volume</th>\n",
              "    </tr>\n",
              "    <tr>\n",
              "      <th>Datetime</th>\n",
              "      <th></th>\n",
              "      <th></th>\n",
              "      <th></th>\n",
              "      <th></th>\n",
              "      <th></th>\n",
              "      <th></th>\n",
              "    </tr>\n",
              "  </thead>\n",
              "  <tbody>\n",
              "    <tr>\n",
              "      <th>2023-10-26 00:00:00+00:00</th>\n",
              "      <td>34504.289062</td>\n",
              "      <td>34509.437500</td>\n",
              "      <td>34474.312500</td>\n",
              "      <td>34509.437500</td>\n",
              "      <td>34509.437500</td>\n",
              "      <td>0</td>\n",
              "    </tr>\n",
              "    <tr>\n",
              "      <th>2023-10-26 00:05:00+00:00</th>\n",
              "      <td>34521.175781</td>\n",
              "      <td>34521.175781</td>\n",
              "      <td>34474.617188</td>\n",
              "      <td>34505.679688</td>\n",
              "      <td>34505.679688</td>\n",
              "      <td>0</td>\n",
              "    </tr>\n",
              "    <tr>\n",
              "      <th>2023-10-26 00:10:00+00:00</th>\n",
              "      <td>34496.804688</td>\n",
              "      <td>34527.507812</td>\n",
              "      <td>34484.953125</td>\n",
              "      <td>34527.507812</td>\n",
              "      <td>34527.507812</td>\n",
              "      <td>317440</td>\n",
              "    </tr>\n",
              "    <tr>\n",
              "      <th>2023-10-26 00:15:00+00:00</th>\n",
              "      <td>34533.218750</td>\n",
              "      <td>34543.382812</td>\n",
              "      <td>34524.519531</td>\n",
              "      <td>34543.382812</td>\n",
              "      <td>34543.382812</td>\n",
              "      <td>0</td>\n",
              "    </tr>\n",
              "    <tr>\n",
              "      <th>2023-10-26 00:20:00+00:00</th>\n",
              "      <td>34548.535156</td>\n",
              "      <td>34554.820312</td>\n",
              "      <td>34537.343750</td>\n",
              "      <td>34554.820312</td>\n",
              "      <td>34554.820312</td>\n",
              "      <td>0</td>\n",
              "    </tr>\n",
              "    <tr>\n",
              "      <th>...</th>\n",
              "      <td>...</td>\n",
              "      <td>...</td>\n",
              "      <td>...</td>\n",
              "      <td>...</td>\n",
              "      <td>...</td>\n",
              "      <td>...</td>\n",
              "    </tr>\n",
              "    <tr>\n",
              "      <th>2023-11-01 21:15:00+00:00</th>\n",
              "      <td>35323.398438</td>\n",
              "      <td>35411.652344</td>\n",
              "      <td>35323.398438</td>\n",
              "      <td>35387.015625</td>\n",
              "      <td>35387.015625</td>\n",
              "      <td>237277184</td>\n",
              "    </tr>\n",
              "    <tr>\n",
              "      <th>2023-11-01 21:20:00+00:00</th>\n",
              "      <td>35369.101562</td>\n",
              "      <td>35389.566406</td>\n",
              "      <td>35322.093750</td>\n",
              "      <td>35348.906250</td>\n",
              "      <td>35348.906250</td>\n",
              "      <td>66127872</td>\n",
              "    </tr>\n",
              "    <tr>\n",
              "      <th>2023-11-01 21:25:00+00:00</th>\n",
              "      <td>35337.890625</td>\n",
              "      <td>35351.648438</td>\n",
              "      <td>35284.269531</td>\n",
              "      <td>35351.648438</td>\n",
              "      <td>35351.648438</td>\n",
              "      <td>52721664</td>\n",
              "    </tr>\n",
              "    <tr>\n",
              "      <th>2023-11-01 21:30:00+00:00</th>\n",
              "      <td>35350.406250</td>\n",
              "      <td>35350.406250</td>\n",
              "      <td>35302.824219</td>\n",
              "      <td>35309.125000</td>\n",
              "      <td>35309.125000</td>\n",
              "      <td>38596608</td>\n",
              "    </tr>\n",
              "    <tr>\n",
              "      <th>2023-11-01 21:35:00+00:00</th>\n",
              "      <td>35296.148438</td>\n",
              "      <td>35296.148438</td>\n",
              "      <td>35284.285156</td>\n",
              "      <td>35284.285156</td>\n",
              "      <td>35284.285156</td>\n",
              "      <td>4532224</td>\n",
              "    </tr>\n",
              "  </tbody>\n",
              "</table>\n",
              "<p>1984 rows × 6 columns</p>\n",
              "</div>\n",
              "    <div class=\"colab-df-buttons\">\n",
              "\n",
              "  <div class=\"colab-df-container\">\n",
              "    <button class=\"colab-df-convert\" onclick=\"convertToInteractive('df-6a3fdb61-9e18-44e9-8f62-002564ffa4b8')\"\n",
              "            title=\"Convert this dataframe to an interactive table.\"\n",
              "            style=\"display:none;\">\n",
              "\n",
              "  <svg xmlns=\"http://www.w3.org/2000/svg\" height=\"24px\" viewBox=\"0 -960 960 960\">\n",
              "    <path d=\"M120-120v-720h720v720H120Zm60-500h600v-160H180v160Zm220 220h160v-160H400v160Zm0 220h160v-160H400v160ZM180-400h160v-160H180v160Zm440 0h160v-160H620v160ZM180-180h160v-160H180v160Zm440 0h160v-160H620v160Z\"/>\n",
              "  </svg>\n",
              "    </button>\n",
              "\n",
              "  <style>\n",
              "    .colab-df-container {\n",
              "      display:flex;\n",
              "      gap: 12px;\n",
              "    }\n",
              "\n",
              "    .colab-df-convert {\n",
              "      background-color: #E8F0FE;\n",
              "      border: none;\n",
              "      border-radius: 50%;\n",
              "      cursor: pointer;\n",
              "      display: none;\n",
              "      fill: #1967D2;\n",
              "      height: 32px;\n",
              "      padding: 0 0 0 0;\n",
              "      width: 32px;\n",
              "    }\n",
              "\n",
              "    .colab-df-convert:hover {\n",
              "      background-color: #E2EBFA;\n",
              "      box-shadow: 0px 1px 2px rgba(60, 64, 67, 0.3), 0px 1px 3px 1px rgba(60, 64, 67, 0.15);\n",
              "      fill: #174EA6;\n",
              "    }\n",
              "\n",
              "    .colab-df-buttons div {\n",
              "      margin-bottom: 4px;\n",
              "    }\n",
              "\n",
              "    [theme=dark] .colab-df-convert {\n",
              "      background-color: #3B4455;\n",
              "      fill: #D2E3FC;\n",
              "    }\n",
              "\n",
              "    [theme=dark] .colab-df-convert:hover {\n",
              "      background-color: #434B5C;\n",
              "      box-shadow: 0px 1px 3px 1px rgba(0, 0, 0, 0.15);\n",
              "      filter: drop-shadow(0px 1px 2px rgba(0, 0, 0, 0.3));\n",
              "      fill: #FFFFFF;\n",
              "    }\n",
              "  </style>\n",
              "\n",
              "    <script>\n",
              "      const buttonEl =\n",
              "        document.querySelector('#df-6a3fdb61-9e18-44e9-8f62-002564ffa4b8 button.colab-df-convert');\n",
              "      buttonEl.style.display =\n",
              "        google.colab.kernel.accessAllowed ? 'block' : 'none';\n",
              "\n",
              "      async function convertToInteractive(key) {\n",
              "        const element = document.querySelector('#df-6a3fdb61-9e18-44e9-8f62-002564ffa4b8');\n",
              "        const dataTable =\n",
              "          await google.colab.kernel.invokeFunction('convertToInteractive',\n",
              "                                                    [key], {});\n",
              "        if (!dataTable) return;\n",
              "\n",
              "        const docLinkHtml = 'Like what you see? Visit the ' +\n",
              "          '<a target=\"_blank\" href=https://colab.research.google.com/notebooks/data_table.ipynb>data table notebook</a>'\n",
              "          + ' to learn more about interactive tables.';\n",
              "        element.innerHTML = '';\n",
              "        dataTable['output_type'] = 'display_data';\n",
              "        await google.colab.output.renderOutput(dataTable, element);\n",
              "        const docLink = document.createElement('div');\n",
              "        docLink.innerHTML = docLinkHtml;\n",
              "        element.appendChild(docLink);\n",
              "      }\n",
              "    </script>\n",
              "  </div>\n",
              "\n",
              "\n",
              "<div id=\"df-8b3c02e6-bcea-4b7a-b9c7-8a32c63e6208\">\n",
              "  <button class=\"colab-df-quickchart\" onclick=\"quickchart('df-8b3c02e6-bcea-4b7a-b9c7-8a32c63e6208')\"\n",
              "            title=\"Suggest charts.\"\n",
              "            style=\"display:none;\">\n",
              "\n",
              "<svg xmlns=\"http://www.w3.org/2000/svg\" height=\"24px\"viewBox=\"0 0 24 24\"\n",
              "     width=\"24px\">\n",
              "    <g>\n",
              "        <path d=\"M19 3H5c-1.1 0-2 .9-2 2v14c0 1.1.9 2 2 2h14c1.1 0 2-.9 2-2V5c0-1.1-.9-2-2-2zM9 17H7v-7h2v7zm4 0h-2V7h2v10zm4 0h-2v-4h2v4z\"/>\n",
              "    </g>\n",
              "</svg>\n",
              "  </button>\n",
              "\n",
              "<style>\n",
              "  .colab-df-quickchart {\n",
              "      --bg-color: #E8F0FE;\n",
              "      --fill-color: #1967D2;\n",
              "      --hover-bg-color: #E2EBFA;\n",
              "      --hover-fill-color: #174EA6;\n",
              "      --disabled-fill-color: #AAA;\n",
              "      --disabled-bg-color: #DDD;\n",
              "  }\n",
              "\n",
              "  [theme=dark] .colab-df-quickchart {\n",
              "      --bg-color: #3B4455;\n",
              "      --fill-color: #D2E3FC;\n",
              "      --hover-bg-color: #434B5C;\n",
              "      --hover-fill-color: #FFFFFF;\n",
              "      --disabled-bg-color: #3B4455;\n",
              "      --disabled-fill-color: #666;\n",
              "  }\n",
              "\n",
              "  .colab-df-quickchart {\n",
              "    background-color: var(--bg-color);\n",
              "    border: none;\n",
              "    border-radius: 50%;\n",
              "    cursor: pointer;\n",
              "    display: none;\n",
              "    fill: var(--fill-color);\n",
              "    height: 32px;\n",
              "    padding: 0;\n",
              "    width: 32px;\n",
              "  }\n",
              "\n",
              "  .colab-df-quickchart:hover {\n",
              "    background-color: var(--hover-bg-color);\n",
              "    box-shadow: 0 1px 2px rgba(60, 64, 67, 0.3), 0 1px 3px 1px rgba(60, 64, 67, 0.15);\n",
              "    fill: var(--button-hover-fill-color);\n",
              "  }\n",
              "\n",
              "  .colab-df-quickchart-complete:disabled,\n",
              "  .colab-df-quickchart-complete:disabled:hover {\n",
              "    background-color: var(--disabled-bg-color);\n",
              "    fill: var(--disabled-fill-color);\n",
              "    box-shadow: none;\n",
              "  }\n",
              "\n",
              "  .colab-df-spinner {\n",
              "    border: 2px solid var(--fill-color);\n",
              "    border-color: transparent;\n",
              "    border-bottom-color: var(--fill-color);\n",
              "    animation:\n",
              "      spin 1s steps(1) infinite;\n",
              "  }\n",
              "\n",
              "  @keyframes spin {\n",
              "    0% {\n",
              "      border-color: transparent;\n",
              "      border-bottom-color: var(--fill-color);\n",
              "      border-left-color: var(--fill-color);\n",
              "    }\n",
              "    20% {\n",
              "      border-color: transparent;\n",
              "      border-left-color: var(--fill-color);\n",
              "      border-top-color: var(--fill-color);\n",
              "    }\n",
              "    30% {\n",
              "      border-color: transparent;\n",
              "      border-left-color: var(--fill-color);\n",
              "      border-top-color: var(--fill-color);\n",
              "      border-right-color: var(--fill-color);\n",
              "    }\n",
              "    40% {\n",
              "      border-color: transparent;\n",
              "      border-right-color: var(--fill-color);\n",
              "      border-top-color: var(--fill-color);\n",
              "    }\n",
              "    60% {\n",
              "      border-color: transparent;\n",
              "      border-right-color: var(--fill-color);\n",
              "    }\n",
              "    80% {\n",
              "      border-color: transparent;\n",
              "      border-right-color: var(--fill-color);\n",
              "      border-bottom-color: var(--fill-color);\n",
              "    }\n",
              "    90% {\n",
              "      border-color: transparent;\n",
              "      border-bottom-color: var(--fill-color);\n",
              "    }\n",
              "  }\n",
              "</style>\n",
              "\n",
              "  <script>\n",
              "    async function quickchart(key) {\n",
              "      const quickchartButtonEl =\n",
              "        document.querySelector('#' + key + ' button');\n",
              "      quickchartButtonEl.disabled = true;  // To prevent multiple clicks.\n",
              "      quickchartButtonEl.classList.add('colab-df-spinner');\n",
              "      try {\n",
              "        const charts = await google.colab.kernel.invokeFunction(\n",
              "            'suggestCharts', [key], {});\n",
              "      } catch (error) {\n",
              "        console.error('Error during call to suggestCharts:', error);\n",
              "      }\n",
              "      quickchartButtonEl.classList.remove('colab-df-spinner');\n",
              "      quickchartButtonEl.classList.add('colab-df-quickchart-complete');\n",
              "    }\n",
              "    (() => {\n",
              "      let quickchartButtonEl =\n",
              "        document.querySelector('#df-8b3c02e6-bcea-4b7a-b9c7-8a32c63e6208 button');\n",
              "      quickchartButtonEl.style.display =\n",
              "        google.colab.kernel.accessAllowed ? 'block' : 'none';\n",
              "    })();\n",
              "  </script>\n",
              "</div>\n",
              "    </div>\n",
              "  </div>\n"
            ]
          },
          "metadata": {},
          "execution_count": 11
        }
      ],
      "source": [
        "importar_base_bitcoin()\n"
      ]
    },
    {
      "cell_type": "markdown",
      "metadata": {
        "id": "ocDn2qAhd99a"
      },
      "source": [
        "###2.2- Indicadores de tendencia\n",
        "\n",
        "Utilizaremos la librería `BeautifulSoup` para hacer Web Scraping de la página `https://coinmarketcap.com/` para extraer el precio actual del Bitcoin BTC en dólares USD y la variación de su precio en la última hora, ambas variables serán guardadas en la función `extraer_tendencias()`\n"
      ]
    },
    {
      "cell_type": "code",
      "execution_count": 12,
      "metadata": {
        "id": "hNoVpjcmDegV"
      },
      "outputs": [],
      "source": [
        "#Importamos la librería BeautifulSoup para ejecutar el Web Scraping\n",
        "from bs4 import BeautifulSoup\n",
        "import requests"
      ]
    },
    {
      "cell_type": "code",
      "execution_count": 13,
      "metadata": {
        "id": "8CpyHIb2gEtC"
      },
      "outputs": [],
      "source": [
        "#Creamos la función extraer_tendencias() que retornará el precio actualizado del Bitcoin y la tendencia de dicho precio\n",
        "def extraer_tendencias():\n",
        "  global df_bitcoin, precio_actual, tendencia, media_bitcoin,  algoritmo_decision\n",
        "  headers = {'User-Agent':\"Mozilla/5.0 (Windows NT 10.0; Win64; x64) AppleWebKit/537.36 (KHTML, like Gecko) Chrome/118.0.0.0 Safari/537.36\"}\n",
        "  url = \"https://coinmarketcap.com/\"\n",
        "  respuesta = requests.get(url,headers=headers)\n",
        "  s = BeautifulSoup(respuesta.content,features=\"lxml\")\n",
        "  #Código para identificar las etiquetas html de donde extraeremos la variable precio y variación de tendencia\n",
        "  label_precio = s.find('div',{'class':['sc-a0353bbc-0 gDrtaY rise','sc-a0353bbc-0 gDrtaY','sc-a0353bbc-0 gDrtaY fall']})\n",
        "  label_variacion = s.find('span', {'class': ['sc-d55c02b-0 gUnzUB','sc-d55c02b-0 iwhBxy']})\n",
        "  #Extraemos el texto de las etiquetas\n",
        "  texto_precio = label_precio.find('span')\n",
        "  texto_variacion = label_variacion.find('span')\n",
        "  #Con el método .text extraemos el contenido del precio de la etiqueta 'span',luego cambiamos a tipo float\n",
        "  precio = texto_precio.text.strip()\n",
        "  precio_actual = float(precio.replace(\"$\",\"\").replace(\",\",\"\"))\n",
        "  #Creamos la variable variacion son el elemento 'class' de la etiqueta 'span'\n",
        "  variacion = texto_variacion.get('class')\n",
        "  variacion = str(variacion)#cambiamos el contenido de la variable 'variación' al tipo string\n",
        "  #Creamos condicionales para determinar la tendencia usando la etiqueta 'icon-Caret'\n",
        "  if variacion == \"['icon-Caret-up']\":\n",
        "    tendencia = \"alta\"\n",
        "  elif variacion == \"['icon-Caret-down']\":\n",
        "    tendencia = \"baja\"\n",
        "  else:\n",
        "    tendencia = \"esperar\"\n",
        "  return precio_actual,tendencia\n",
        "\n"
      ]
    },
    {
      "cell_type": "code",
      "execution_count": 14,
      "metadata": {
        "colab": {
          "base_uri": "https://localhost:8080/"
        },
        "id": "Neo06Aspti6E",
        "outputId": "74148cd6-f6ba-413f-ae04-4c1dba1c063a"
      },
      "outputs": [
        {
          "output_type": "stream",
          "name": "stdout",
          "text": [
            "Precio Bitcoin:  35296.15\n",
            "Tendencia:  alta\n"
          ]
        }
      ],
      "source": [
        "extraer_tendencias()\n",
        "print('Precio Bitcoin: ', precio_actual)\n",
        "print('Tendencia: ', tendencia)\n"
      ]
    },
    {
      "cell_type": "markdown",
      "metadata": {
        "id": "X6wP8ixjYd4u"
      },
      "source": [
        "##3- Limpieza de datos\n",
        "\n",
        "Crearemos una copia de la base `df_bitcoin` para realizar la limpieza de datos en esta nueva base `df_bitcoin_limpio`, sin modificar la base original. Luego eliminaremos duplicados, valores nulos y outliers para construir la función `limpieza_datos()`\n"
      ]
    },
    {
      "cell_type": "code",
      "execution_count": 15,
      "metadata": {
        "colab": {
          "base_uri": "https://localhost:8080/",
          "height": 238
        },
        "id": "inV5UNobU436",
        "outputId": "77dbe3f4-8000-465b-a309-d138dd8b64fc"
      },
      "outputs": [
        {
          "output_type": "execute_result",
          "data": {
            "text/plain": [
              "                                   Open          High           Low  \\\n",
              "Datetime                                                              \n",
              "2023-10-26 00:00:00+00:00  34504.289062  34509.437500  34474.312500   \n",
              "2023-10-26 00:05:00+00:00  34521.175781  34521.175781  34474.617188   \n",
              "2023-10-26 00:10:00+00:00  34496.804688  34527.507812  34484.953125   \n",
              "2023-10-26 00:15:00+00:00  34533.218750  34543.382812  34524.519531   \n",
              "2023-10-26 00:20:00+00:00  34548.535156  34554.820312  34537.343750   \n",
              "\n",
              "                                  Close     Adj Close  Volume  \n",
              "Datetime                                                       \n",
              "2023-10-26 00:00:00+00:00  34509.437500  34509.437500       0  \n",
              "2023-10-26 00:05:00+00:00  34505.679688  34505.679688       0  \n",
              "2023-10-26 00:10:00+00:00  34527.507812  34527.507812  317440  \n",
              "2023-10-26 00:15:00+00:00  34543.382812  34543.382812       0  \n",
              "2023-10-26 00:20:00+00:00  34554.820312  34554.820312       0  "
            ],
            "text/html": [
              "\n",
              "  <div id=\"df-0d1a9fae-7e4a-43ba-b61d-061a958f64a9\" class=\"colab-df-container\">\n",
              "    <div>\n",
              "<style scoped>\n",
              "    .dataframe tbody tr th:only-of-type {\n",
              "        vertical-align: middle;\n",
              "    }\n",
              "\n",
              "    .dataframe tbody tr th {\n",
              "        vertical-align: top;\n",
              "    }\n",
              "\n",
              "    .dataframe thead th {\n",
              "        text-align: right;\n",
              "    }\n",
              "</style>\n",
              "<table border=\"1\" class=\"dataframe\">\n",
              "  <thead>\n",
              "    <tr style=\"text-align: right;\">\n",
              "      <th></th>\n",
              "      <th>Open</th>\n",
              "      <th>High</th>\n",
              "      <th>Low</th>\n",
              "      <th>Close</th>\n",
              "      <th>Adj Close</th>\n",
              "      <th>Volume</th>\n",
              "    </tr>\n",
              "    <tr>\n",
              "      <th>Datetime</th>\n",
              "      <th></th>\n",
              "      <th></th>\n",
              "      <th></th>\n",
              "      <th></th>\n",
              "      <th></th>\n",
              "      <th></th>\n",
              "    </tr>\n",
              "  </thead>\n",
              "  <tbody>\n",
              "    <tr>\n",
              "      <th>2023-10-26 00:00:00+00:00</th>\n",
              "      <td>34504.289062</td>\n",
              "      <td>34509.437500</td>\n",
              "      <td>34474.312500</td>\n",
              "      <td>34509.437500</td>\n",
              "      <td>34509.437500</td>\n",
              "      <td>0</td>\n",
              "    </tr>\n",
              "    <tr>\n",
              "      <th>2023-10-26 00:05:00+00:00</th>\n",
              "      <td>34521.175781</td>\n",
              "      <td>34521.175781</td>\n",
              "      <td>34474.617188</td>\n",
              "      <td>34505.679688</td>\n",
              "      <td>34505.679688</td>\n",
              "      <td>0</td>\n",
              "    </tr>\n",
              "    <tr>\n",
              "      <th>2023-10-26 00:10:00+00:00</th>\n",
              "      <td>34496.804688</td>\n",
              "      <td>34527.507812</td>\n",
              "      <td>34484.953125</td>\n",
              "      <td>34527.507812</td>\n",
              "      <td>34527.507812</td>\n",
              "      <td>317440</td>\n",
              "    </tr>\n",
              "    <tr>\n",
              "      <th>2023-10-26 00:15:00+00:00</th>\n",
              "      <td>34533.218750</td>\n",
              "      <td>34543.382812</td>\n",
              "      <td>34524.519531</td>\n",
              "      <td>34543.382812</td>\n",
              "      <td>34543.382812</td>\n",
              "      <td>0</td>\n",
              "    </tr>\n",
              "    <tr>\n",
              "      <th>2023-10-26 00:20:00+00:00</th>\n",
              "      <td>34548.535156</td>\n",
              "      <td>34554.820312</td>\n",
              "      <td>34537.343750</td>\n",
              "      <td>34554.820312</td>\n",
              "      <td>34554.820312</td>\n",
              "      <td>0</td>\n",
              "    </tr>\n",
              "  </tbody>\n",
              "</table>\n",
              "</div>\n",
              "    <div class=\"colab-df-buttons\">\n",
              "\n",
              "  <div class=\"colab-df-container\">\n",
              "    <button class=\"colab-df-convert\" onclick=\"convertToInteractive('df-0d1a9fae-7e4a-43ba-b61d-061a958f64a9')\"\n",
              "            title=\"Convert this dataframe to an interactive table.\"\n",
              "            style=\"display:none;\">\n",
              "\n",
              "  <svg xmlns=\"http://www.w3.org/2000/svg\" height=\"24px\" viewBox=\"0 -960 960 960\">\n",
              "    <path d=\"M120-120v-720h720v720H120Zm60-500h600v-160H180v160Zm220 220h160v-160H400v160Zm0 220h160v-160H400v160ZM180-400h160v-160H180v160Zm440 0h160v-160H620v160ZM180-180h160v-160H180v160Zm440 0h160v-160H620v160Z\"/>\n",
              "  </svg>\n",
              "    </button>\n",
              "\n",
              "  <style>\n",
              "    .colab-df-container {\n",
              "      display:flex;\n",
              "      gap: 12px;\n",
              "    }\n",
              "\n",
              "    .colab-df-convert {\n",
              "      background-color: #E8F0FE;\n",
              "      border: none;\n",
              "      border-radius: 50%;\n",
              "      cursor: pointer;\n",
              "      display: none;\n",
              "      fill: #1967D2;\n",
              "      height: 32px;\n",
              "      padding: 0 0 0 0;\n",
              "      width: 32px;\n",
              "    }\n",
              "\n",
              "    .colab-df-convert:hover {\n",
              "      background-color: #E2EBFA;\n",
              "      box-shadow: 0px 1px 2px rgba(60, 64, 67, 0.3), 0px 1px 3px 1px rgba(60, 64, 67, 0.15);\n",
              "      fill: #174EA6;\n",
              "    }\n",
              "\n",
              "    .colab-df-buttons div {\n",
              "      margin-bottom: 4px;\n",
              "    }\n",
              "\n",
              "    [theme=dark] .colab-df-convert {\n",
              "      background-color: #3B4455;\n",
              "      fill: #D2E3FC;\n",
              "    }\n",
              "\n",
              "    [theme=dark] .colab-df-convert:hover {\n",
              "      background-color: #434B5C;\n",
              "      box-shadow: 0px 1px 3px 1px rgba(0, 0, 0, 0.15);\n",
              "      filter: drop-shadow(0px 1px 2px rgba(0, 0, 0, 0.3));\n",
              "      fill: #FFFFFF;\n",
              "    }\n",
              "  </style>\n",
              "\n",
              "    <script>\n",
              "      const buttonEl =\n",
              "        document.querySelector('#df-0d1a9fae-7e4a-43ba-b61d-061a958f64a9 button.colab-df-convert');\n",
              "      buttonEl.style.display =\n",
              "        google.colab.kernel.accessAllowed ? 'block' : 'none';\n",
              "\n",
              "      async function convertToInteractive(key) {\n",
              "        const element = document.querySelector('#df-0d1a9fae-7e4a-43ba-b61d-061a958f64a9');\n",
              "        const dataTable =\n",
              "          await google.colab.kernel.invokeFunction('convertToInteractive',\n",
              "                                                    [key], {});\n",
              "        if (!dataTable) return;\n",
              "\n",
              "        const docLinkHtml = 'Like what you see? Visit the ' +\n",
              "          '<a target=\"_blank\" href=https://colab.research.google.com/notebooks/data_table.ipynb>data table notebook</a>'\n",
              "          + ' to learn more about interactive tables.';\n",
              "        element.innerHTML = '';\n",
              "        dataTable['output_type'] = 'display_data';\n",
              "        await google.colab.output.renderOutput(dataTable, element);\n",
              "        const docLink = document.createElement('div');\n",
              "        docLink.innerHTML = docLinkHtml;\n",
              "        element.appendChild(docLink);\n",
              "      }\n",
              "    </script>\n",
              "  </div>\n",
              "\n",
              "\n",
              "<div id=\"df-b90108e9-7cde-4aff-a731-296dca619dc4\">\n",
              "  <button class=\"colab-df-quickchart\" onclick=\"quickchart('df-b90108e9-7cde-4aff-a731-296dca619dc4')\"\n",
              "            title=\"Suggest charts.\"\n",
              "            style=\"display:none;\">\n",
              "\n",
              "<svg xmlns=\"http://www.w3.org/2000/svg\" height=\"24px\"viewBox=\"0 0 24 24\"\n",
              "     width=\"24px\">\n",
              "    <g>\n",
              "        <path d=\"M19 3H5c-1.1 0-2 .9-2 2v14c0 1.1.9 2 2 2h14c1.1 0 2-.9 2-2V5c0-1.1-.9-2-2-2zM9 17H7v-7h2v7zm4 0h-2V7h2v10zm4 0h-2v-4h2v4z\"/>\n",
              "    </g>\n",
              "</svg>\n",
              "  </button>\n",
              "\n",
              "<style>\n",
              "  .colab-df-quickchart {\n",
              "      --bg-color: #E8F0FE;\n",
              "      --fill-color: #1967D2;\n",
              "      --hover-bg-color: #E2EBFA;\n",
              "      --hover-fill-color: #174EA6;\n",
              "      --disabled-fill-color: #AAA;\n",
              "      --disabled-bg-color: #DDD;\n",
              "  }\n",
              "\n",
              "  [theme=dark] .colab-df-quickchart {\n",
              "      --bg-color: #3B4455;\n",
              "      --fill-color: #D2E3FC;\n",
              "      --hover-bg-color: #434B5C;\n",
              "      --hover-fill-color: #FFFFFF;\n",
              "      --disabled-bg-color: #3B4455;\n",
              "      --disabled-fill-color: #666;\n",
              "  }\n",
              "\n",
              "  .colab-df-quickchart {\n",
              "    background-color: var(--bg-color);\n",
              "    border: none;\n",
              "    border-radius: 50%;\n",
              "    cursor: pointer;\n",
              "    display: none;\n",
              "    fill: var(--fill-color);\n",
              "    height: 32px;\n",
              "    padding: 0;\n",
              "    width: 32px;\n",
              "  }\n",
              "\n",
              "  .colab-df-quickchart:hover {\n",
              "    background-color: var(--hover-bg-color);\n",
              "    box-shadow: 0 1px 2px rgba(60, 64, 67, 0.3), 0 1px 3px 1px rgba(60, 64, 67, 0.15);\n",
              "    fill: var(--button-hover-fill-color);\n",
              "  }\n",
              "\n",
              "  .colab-df-quickchart-complete:disabled,\n",
              "  .colab-df-quickchart-complete:disabled:hover {\n",
              "    background-color: var(--disabled-bg-color);\n",
              "    fill: var(--disabled-fill-color);\n",
              "    box-shadow: none;\n",
              "  }\n",
              "\n",
              "  .colab-df-spinner {\n",
              "    border: 2px solid var(--fill-color);\n",
              "    border-color: transparent;\n",
              "    border-bottom-color: var(--fill-color);\n",
              "    animation:\n",
              "      spin 1s steps(1) infinite;\n",
              "  }\n",
              "\n",
              "  @keyframes spin {\n",
              "    0% {\n",
              "      border-color: transparent;\n",
              "      border-bottom-color: var(--fill-color);\n",
              "      border-left-color: var(--fill-color);\n",
              "    }\n",
              "    20% {\n",
              "      border-color: transparent;\n",
              "      border-left-color: var(--fill-color);\n",
              "      border-top-color: var(--fill-color);\n",
              "    }\n",
              "    30% {\n",
              "      border-color: transparent;\n",
              "      border-left-color: var(--fill-color);\n",
              "      border-top-color: var(--fill-color);\n",
              "      border-right-color: var(--fill-color);\n",
              "    }\n",
              "    40% {\n",
              "      border-color: transparent;\n",
              "      border-right-color: var(--fill-color);\n",
              "      border-top-color: var(--fill-color);\n",
              "    }\n",
              "    60% {\n",
              "      border-color: transparent;\n",
              "      border-right-color: var(--fill-color);\n",
              "    }\n",
              "    80% {\n",
              "      border-color: transparent;\n",
              "      border-right-color: var(--fill-color);\n",
              "      border-bottom-color: var(--fill-color);\n",
              "    }\n",
              "    90% {\n",
              "      border-color: transparent;\n",
              "      border-bottom-color: var(--fill-color);\n",
              "    }\n",
              "  }\n",
              "</style>\n",
              "\n",
              "  <script>\n",
              "    async function quickchart(key) {\n",
              "      const quickchartButtonEl =\n",
              "        document.querySelector('#' + key + ' button');\n",
              "      quickchartButtonEl.disabled = true;  // To prevent multiple clicks.\n",
              "      quickchartButtonEl.classList.add('colab-df-spinner');\n",
              "      try {\n",
              "        const charts = await google.colab.kernel.invokeFunction(\n",
              "            'suggestCharts', [key], {});\n",
              "      } catch (error) {\n",
              "        console.error('Error during call to suggestCharts:', error);\n",
              "      }\n",
              "      quickchartButtonEl.classList.remove('colab-df-spinner');\n",
              "      quickchartButtonEl.classList.add('colab-df-quickchart-complete');\n",
              "    }\n",
              "    (() => {\n",
              "      let quickchartButtonEl =\n",
              "        document.querySelector('#df-b90108e9-7cde-4aff-a731-296dca619dc4 button');\n",
              "      quickchartButtonEl.style.display =\n",
              "        google.colab.kernel.accessAllowed ? 'block' : 'none';\n",
              "    })();\n",
              "  </script>\n",
              "</div>\n",
              "    </div>\n",
              "  </div>\n"
            ]
          },
          "metadata": {},
          "execution_count": 15
        }
      ],
      "source": [
        "#Creamos la copia del DataFrame\n",
        "df_bitcoin_limpio = df_bitcoin.copy()\n",
        "df_bitcoin_limpio.head()\n"
      ]
    },
    {
      "cell_type": "code",
      "execution_count": 16,
      "metadata": {
        "colab": {
          "base_uri": "https://localhost:8080/"
        },
        "id": "ju75PjqcsiRb",
        "outputId": "1c00ea4e-1804-49a4-9573-266d577c84d2"
      },
      "outputs": [
        {
          "output_type": "execute_result",
          "data": {
            "text/plain": [
              "<bound method DataFrame.info of                                    Open          High           Low  \\\n",
              "Datetime                                                              \n",
              "2023-10-26 00:00:00+00:00  34504.289062  34509.437500  34474.312500   \n",
              "2023-10-26 00:05:00+00:00  34521.175781  34521.175781  34474.617188   \n",
              "2023-10-26 00:10:00+00:00  34496.804688  34527.507812  34484.953125   \n",
              "2023-10-26 00:15:00+00:00  34533.218750  34543.382812  34524.519531   \n",
              "2023-10-26 00:20:00+00:00  34548.535156  34554.820312  34537.343750   \n",
              "...                                 ...           ...           ...   \n",
              "2023-11-01 21:15:00+00:00  35323.398438  35411.652344  35323.398438   \n",
              "2023-11-01 21:20:00+00:00  35369.101562  35389.566406  35322.093750   \n",
              "2023-11-01 21:25:00+00:00  35337.890625  35351.648438  35284.269531   \n",
              "2023-11-01 21:30:00+00:00  35350.406250  35350.406250  35302.824219   \n",
              "2023-11-01 21:35:00+00:00  35296.148438  35296.148438  35284.285156   \n",
              "\n",
              "                                  Close     Adj Close     Volume  \n",
              "Datetime                                                          \n",
              "2023-10-26 00:00:00+00:00  34509.437500  34509.437500          0  \n",
              "2023-10-26 00:05:00+00:00  34505.679688  34505.679688          0  \n",
              "2023-10-26 00:10:00+00:00  34527.507812  34527.507812     317440  \n",
              "2023-10-26 00:15:00+00:00  34543.382812  34543.382812          0  \n",
              "2023-10-26 00:20:00+00:00  34554.820312  34554.820312          0  \n",
              "...                                 ...           ...        ...  \n",
              "2023-11-01 21:15:00+00:00  35387.015625  35387.015625  237277184  \n",
              "2023-11-01 21:20:00+00:00  35348.906250  35348.906250   66127872  \n",
              "2023-11-01 21:25:00+00:00  35351.648438  35351.648438   52721664  \n",
              "2023-11-01 21:30:00+00:00  35309.125000  35309.125000   38596608  \n",
              "2023-11-01 21:35:00+00:00  35284.285156  35284.285156    4532224  \n",
              "\n",
              "[1984 rows x 6 columns]>"
            ]
          },
          "metadata": {},
          "execution_count": 16
        }
      ],
      "source": [
        "df_bitcoin_limpio.info"
      ]
    },
    {
      "cell_type": "markdown",
      "metadata": {
        "id": "Cfu-dkviadNx"
      },
      "source": [
        "Es importante entender el contenido del DataFrame:\n",
        "\n",
        "**Datetime**: Es el índice del dataframe, y contiene la fecha y hora del intervalo seleccionado, no puede estar duplicado.\n",
        "\n",
        "**Open**: Contiene el precio del Bitcoin al inicio del intervalo.\n",
        "\n",
        "**High**: Contiene el precio más alto del Bitcoin durante el intervalo.\n",
        "\n",
        "**Low**: Contiene el precio más bajo del Bitcoin durante el intervalo.\n",
        "\n",
        "**Close**: Contiene el precio del Bitcoin al final del intervalo.\n",
        "\n",
        "**Volume**: Contiene el total de transacciones hechas durante el intervalo.\n",
        "\n",
        "Para la limpieza utilizaremos los atributos `Datetime`, `Close`  y `Volume`"
      ]
    },
    {
      "cell_type": "code",
      "execution_count": 17,
      "metadata": {
        "colab": {
          "base_uri": "https://localhost:8080/"
        },
        "id": "qRmQ9Z2vU5eC",
        "outputId": "2a62adac-8dd5-4629-c26c-839feeeb2c99"
      },
      "outputs": [
        {
          "output_type": "stream",
          "name": "stdout",
          "text": [
            "1984 1984\n"
          ]
        }
      ],
      "source": [
        "#Verificamos que no haya duplicados en el índice del DataFrame 'df_bitcoin_limpio'\n",
        "df_bitcoin_limpio = df_bitcoin_limpio[~df_bitcoin_limpio.index.duplicated(keep='first')]#Este código retornará los elementos que no estan duplicados\n",
        "print(df_bitcoin.shape[0], df_bitcoin_limpio.shape[0])#Comparamos con el DataFrame original y verificamos que no existian filas duplicadas"
      ]
    },
    {
      "cell_type": "code",
      "execution_count": 18,
      "metadata": {
        "colab": {
          "base_uri": "https://localhost:8080/"
        },
        "id": "Px1CgzEAU6Nc",
        "outputId": "7c99abab-8b80-4c86-fed9-91ebf8065295"
      },
      "outputs": [
        {
          "output_type": "execute_result",
          "data": {
            "text/plain": [
              "0"
            ]
          },
          "metadata": {},
          "execution_count": 18
        }
      ],
      "source": [
        "#Buscamos valores nulos en la columna 'Close'\n",
        "df_bitcoin_limpio[df_bitcoin_limpio.Close.isnull()].shape[0] # El número de filas con valores nulos es 0"
      ]
    },
    {
      "cell_type": "code",
      "execution_count": 19,
      "metadata": {
        "colab": {
          "base_uri": "https://localhost:8080/"
        },
        "id": "jsj9GQpW7hT2",
        "outputId": "102646ba-634a-4be7-9ad0-064e6b9bb015"
      },
      "outputs": [
        {
          "output_type": "execute_result",
          "data": {
            "text/plain": [
              "896"
            ]
          },
          "metadata": {},
          "execution_count": 19
        }
      ],
      "source": [
        "#Verificar que las filas de la columna 'Volumen' sean mayor a 0, caso contrário, eliminar.\n",
        "df_bitcoin_limpio = df_bitcoin_limpio[df_bitcoin_limpio.Volume > 0] #Eliminamos los valores = 0 en la columna 'Volume'\n",
        "df_bitcoin_limpio.shape[0]"
      ]
    },
    {
      "cell_type": "code",
      "execution_count": 20,
      "metadata": {
        "colab": {
          "base_uri": "https://localhost:8080/",
          "height": 450
        },
        "id": "LuU1zvOD7JEf",
        "outputId": "f1705d63-26d5-4b69-c2c3-b909db853cef"
      },
      "outputs": [
        {
          "output_type": "execute_result",
          "data": {
            "text/plain": [
              "<Axes: >"
            ]
          },
          "metadata": {},
          "execution_count": 20
        },
        {
          "output_type": "display_data",
          "data": {
            "text/plain": [
              "<Figure size 640x480 with 1 Axes>"
            ],
            "image/png": "[encoded data removed]"
          },
          "metadata": {}
        }
      ],
      "source": [
        "#identificar y eliminar los outliers en la columna 'Close', utiliza un gráfico de boxplot para identificarlos.\n",
        "df_bitcoin_limpio.boxplot(['Close'])"
      ]
    },
    {
      "cell_type": "code",
      "execution_count": 21,
      "metadata": {
        "colab": {
          "base_uri": "https://localhost:8080/",
          "height": 447
        },
        "id": "8L2ttp_CBNOZ",
        "outputId": "836c8790-2e4d-4b8b-9735-95cef89cfa6e"
      },
      "outputs": [
        {
          "output_type": "execute_result",
          "data": {
            "text/plain": [
              "<Axes: >"
            ]
          },
          "metadata": {},
          "execution_count": 21
        },
        {
          "output_type": "display_data",
          "data": {
            "text/plain": [
              "<Figure size 640x480 with 1 Axes>"
            ],
            "image/png": "[encoded data removed]"
          },
          "metadata": {}
        }
      ],
      "source": [
        "#Filtra o selecciona únicamente los registros cuyo precio(Close) se encuentren entre el 1er cuartil(Q1) y el 3er cuartil(Q3) del boxplot\n",
        "valor = df_bitcoin_limpio['Close']#Para eliminar los outliers, vamos a crear nuestros cuartiles\n",
        "Q1 = valor.quantile(.25) #quartil 1 = 25% de los datos\n",
        "Q3 = valor.quantile(.75) #quartil 3 = 75% de los datos\n",
        "seleccion = ((valor >= Q1) & (valor <= Q3))#Con esta seleccion excluimos los outliers\n",
        "df_bitcoin_limpio = df_bitcoin_limpio[seleccion]\n",
        "df_bitcoin_limpio.boxplot(['Close'])#Creamos otro gráfico boxplot, esta vez sin outliers"
      ]
    },
    {
      "cell_type": "code",
      "execution_count": 22,
      "metadata": {
        "id": "ACkgx4N3CJq2"
      },
      "outputs": [],
      "source": [
        "#Finalmente, creamos la función limpieza_datos que retornará el precio promedio de la columna'Close' y estará guardada en la variable media_bitcoin.\n",
        "def limpieza_datos():\n",
        "  global df_bitcoin, precio_actual, tendencia, media_bitcoin,  algoritmo_decision\n",
        "  df_bitcoin_limpio = df_bitcoin.copy()\n",
        "  df_bitcoin_limpio = df_bitcoin_limpio[~df_bitcoin_limpio.index.duplicated(keep='first')]\n",
        "  df_bitcoin_limpio[df_bitcoin_limpio.Close.isnull()]\n",
        "  df_bitcoin_limpio = df_bitcoin_limpio[df_bitcoin_limpio.Volume > 0]\n",
        "  valor = df_bitcoin_limpio['Close']\n",
        "  Q1 = valor.quantile(.25)\n",
        "  Q3 = valor.quantile(.75)\n",
        "  seleccion = (valor >= Q1) & (valor <= Q3)\n",
        "  df_bitcoin_limpio = df_bitcoin_limpio[seleccion]\n",
        "  media_bitcoin = df_bitcoin_limpio['Close'].mean().round(2)\n",
        "  return media_bitcoin\n"
      ]
    },
    {
      "cell_type": "code",
      "execution_count": 23,
      "metadata": {
        "colab": {
          "base_uri": "https://localhost:8080/"
        },
        "id": "HW_1_tCk051f",
        "outputId": "25b5dac6-4502-48ad-b51d-a338c6236fad"
      },
      "outputs": [
        {
          "output_type": "execute_result",
          "data": {
            "text/plain": [
              "34394.53"
            ]
          },
          "metadata": {},
          "execution_count": 23
        }
      ],
      "source": [
        "limpieza_datos()"
      ]
    },
    {
      "cell_type": "markdown",
      "metadata": {
        "id": "W9mwK3nqX-Sx"
      },
      "source": [
        "##4- Tomar decisiones\n",
        "\n",
        "Crearemos una función `tomar_decisiones()` dentro de ella construiremos el algoritmo que retornará la variable `algoritmo_decision`:"
      ]
    },
    {
      "cell_type": "code",
      "execution_count": 24,
      "metadata": {
        "id": "wS0tZQyW7QGj"
      },
      "outputs": [],
      "source": [
        "#Creamos la función tomar_decisiones() con las condicionales\n",
        "def tomar_decisiones():\n",
        "  global df_bitcoin, precio_actual, tendencia, media_bitcoin,  algoritmo_decision\n",
        "  if(precio_actual >= media_bitcoin) & (tendencia == 'baja'):\n",
        "    algoritmo_decision = 'Vender'\n",
        "  elif(precio_actual < media_bitcoin) & (tendencia == 'alta'):\n",
        "    algoritmo_decision = 'Comprar'\n",
        "  else:\n",
        "    algoritmo_decision = 'Esperar'\n",
        "  return algoritmo_decision\n"
      ]
    },
    {
      "cell_type": "code",
      "execution_count": 25,
      "metadata": {
        "colab": {
          "base_uri": "https://localhost:8080/"
        },
        "id": "LrdCAQrUBuLH",
        "outputId": "cc1f6eaf-5c1b-4ded-db02-c399a9f86e8c"
      },
      "outputs": [
        {
          "output_type": "stream",
          "name": "stdout",
          "text": [
            "Decisión:  Esperar\n"
          ]
        }
      ],
      "source": [
        "tomar_decisiones()\n",
        "print('Decisión: ', algoritmo_decision)"
      ]
    },
    {
      "cell_type": "markdown",
      "metadata": {
        "id": "byTNp7YIY0qY"
      },
      "source": [
        "##5- Visualización\n",
        "\n",
        "Creamos una función `visualizacion()` dentro de ella, usando la librería `matplotlib` vamos a crear un gráfico con los siguientes pasos:"
      ]
    },
    {
      "cell_type": "code",
      "execution_count": 26,
      "metadata": {
        "colab": {
          "base_uri": "https://localhost:8080/",
          "height": 238
        },
        "id": "YnQD2Y7sM672",
        "outputId": "c18200ce-5b77-48ea-b91a-0d4fc728c586"
      },
      "outputs": [
        {
          "output_type": "execute_result",
          "data": {
            "text/plain": [
              "                                   Open          High           Low  \\\n",
              "Datetime                                                              \n",
              "2023-10-26 00:00:00+00:00  34504.289062  34509.437500  34474.312500   \n",
              "2023-10-26 00:05:00+00:00  34521.175781  34521.175781  34474.617188   \n",
              "2023-10-26 00:10:00+00:00  34496.804688  34527.507812  34484.953125   \n",
              "2023-10-26 00:15:00+00:00  34533.218750  34543.382812  34524.519531   \n",
              "2023-10-26 00:20:00+00:00  34548.535156  34554.820312  34537.343750   \n",
              "\n",
              "                                  Close     Adj Close  Volume  Promedio  \n",
              "Datetime                                                                 \n",
              "2023-10-26 00:00:00+00:00  34509.437500  34509.437500       0  34394.53  \n",
              "2023-10-26 00:05:00+00:00  34505.679688  34505.679688       0  34394.53  \n",
              "2023-10-26 00:10:00+00:00  34527.507812  34527.507812  317440  34394.53  \n",
              "2023-10-26 00:15:00+00:00  34543.382812  34543.382812       0  34394.53  \n",
              "2023-10-26 00:20:00+00:00  34554.820312  34554.820312       0  34394.53  "
            ],
            "text/html": [
              "\n",
              "  <div id=\"df-b5e69d38-7026-421b-b230-ec4d90aea1cb\" class=\"colab-df-container\">\n",
              "    <div>\n",
              "<style scoped>\n",
              "    .dataframe tbody tr th:only-of-type {\n",
              "        vertical-align: middle;\n",
              "    }\n",
              "\n",
              "    .dataframe tbody tr th {\n",
              "        vertical-align: top;\n",
              "    }\n",
              "\n",
              "    .dataframe thead th {\n",
              "        text-align: right;\n",
              "    }\n",
              "</style>\n",
              "<table border=\"1\" class=\"dataframe\">\n",
              "  <thead>\n",
              "    <tr style=\"text-align: right;\">\n",
              "      <th></th>\n",
              "      <th>Open</th>\n",
              "      <th>High</th>\n",
              "      <th>Low</th>\n",
              "      <th>Close</th>\n",
              "      <th>Adj Close</th>\n",
              "      <th>Volume</th>\n",
              "      <th>Promedio</th>\n",
              "    </tr>\n",
              "    <tr>\n",
              "      <th>Datetime</th>\n",
              "      <th></th>\n",
              "      <th></th>\n",
              "      <th></th>\n",
              "      <th></th>\n",
              "      <th></th>\n",
              "      <th></th>\n",
              "      <th></th>\n",
              "    </tr>\n",
              "  </thead>\n",
              "  <tbody>\n",
              "    <tr>\n",
              "      <th>2023-10-26 00:00:00+00:00</th>\n",
              "      <td>34504.289062</td>\n",
              "      <td>34509.437500</td>\n",
              "      <td>34474.312500</td>\n",
              "      <td>34509.437500</td>\n",
              "      <td>34509.437500</td>\n",
              "      <td>0</td>\n",
              "      <td>34394.53</td>\n",
              "    </tr>\n",
              "    <tr>\n",
              "      <th>2023-10-26 00:05:00+00:00</th>\n",
              "      <td>34521.175781</td>\n",
              "      <td>34521.175781</td>\n",
              "      <td>34474.617188</td>\n",
              "      <td>34505.679688</td>\n",
              "      <td>34505.679688</td>\n",
              "      <td>0</td>\n",
              "      <td>34394.53</td>\n",
              "    </tr>\n",
              "    <tr>\n",
              "      <th>2023-10-26 00:10:00+00:00</th>\n",
              "      <td>34496.804688</td>\n",
              "      <td>34527.507812</td>\n",
              "      <td>34484.953125</td>\n",
              "      <td>34527.507812</td>\n",
              "      <td>34527.507812</td>\n",
              "      <td>317440</td>\n",
              "      <td>34394.53</td>\n",
              "    </tr>\n",
              "    <tr>\n",
              "      <th>2023-10-26 00:15:00+00:00</th>\n",
              "      <td>34533.218750</td>\n",
              "      <td>34543.382812</td>\n",
              "      <td>34524.519531</td>\n",
              "      <td>34543.382812</td>\n",
              "      <td>34543.382812</td>\n",
              "      <td>0</td>\n",
              "      <td>34394.53</td>\n",
              "    </tr>\n",
              "    <tr>\n",
              "      <th>2023-10-26 00:20:00+00:00</th>\n",
              "      <td>34548.535156</td>\n",
              "      <td>34554.820312</td>\n",
              "      <td>34537.343750</td>\n",
              "      <td>34554.820312</td>\n",
              "      <td>34554.820312</td>\n",
              "      <td>0</td>\n",
              "      <td>34394.53</td>\n",
              "    </tr>\n",
              "  </tbody>\n",
              "</table>\n",
              "</div>\n",
              "    <div class=\"colab-df-buttons\">\n",
              "\n",
              "  <div class=\"colab-df-container\">\n",
              "    <button class=\"colab-df-convert\" onclick=\"convertToInteractive('df-b5e69d38-7026-421b-b230-ec4d90aea1cb')\"\n",
              "            title=\"Convert this dataframe to an interactive table.\"\n",
              "            style=\"display:none;\">\n",
              "\n",
              "  <svg xmlns=\"http://www.w3.org/2000/svg\" height=\"24px\" viewBox=\"0 -960 960 960\">\n",
              "    <path d=\"M120-120v-720h720v720H120Zm60-500h600v-160H180v160Zm220 220h160v-160H400v160Zm0 220h160v-160H400v160ZM180-400h160v-160H180v160Zm440 0h160v-160H620v160ZM180-180h160v-160H180v160Zm440 0h160v-160H620v160Z\"/>\n",
              "  </svg>\n",
              "    </button>\n",
              "\n",
              "  <style>\n",
              "    .colab-df-container {\n",
              "      display:flex;\n",
              "      gap: 12px;\n",
              "    }\n",
              "\n",
              "    .colab-df-convert {\n",
              "      background-color: #E8F0FE;\n",
              "      border: none;\n",
              "      border-radius: 50%;\n",
              "      cursor: pointer;\n",
              "      display: none;\n",
              "      fill: #1967D2;\n",
              "      height: 32px;\n",
              "      padding: 0 0 0 0;\n",
              "      width: 32px;\n",
              "    }\n",
              "\n",
              "    .colab-df-convert:hover {\n",
              "      background-color: #E2EBFA;\n",
              "      box-shadow: 0px 1px 2px rgba(60, 64, 67, 0.3), 0px 1px 3px 1px rgba(60, 64, 67, 0.15);\n",
              "      fill: #174EA6;\n",
              "    }\n",
              "\n",
              "    .colab-df-buttons div {\n",
              "      margin-bottom: 4px;\n",
              "    }\n",
              "\n",
              "    [theme=dark] .colab-df-convert {\n",
              "      background-color: #3B4455;\n",
              "      fill: #D2E3FC;\n",
              "    }\n",
              "\n",
              "    [theme=dark] .colab-df-convert:hover {\n",
              "      background-color: #434B5C;\n",
              "      box-shadow: 0px 1px 3px 1px rgba(0, 0, 0, 0.15);\n",
              "      filter: drop-shadow(0px 1px 2px rgba(0, 0, 0, 0.3));\n",
              "      fill: #FFFFFF;\n",
              "    }\n",
              "  </style>\n",
              "\n",
              "    <script>\n",
              "      const buttonEl =\n",
              "        document.querySelector('#df-b5e69d38-7026-421b-b230-ec4d90aea1cb button.colab-df-convert');\n",
              "      buttonEl.style.display =\n",
              "        google.colab.kernel.accessAllowed ? 'block' : 'none';\n",
              "\n",
              "      async function convertToInteractive(key) {\n",
              "        const element = document.querySelector('#df-b5e69d38-7026-421b-b230-ec4d90aea1cb');\n",
              "        const dataTable =\n",
              "          await google.colab.kernel.invokeFunction('convertToInteractive',\n",
              "                                                    [key], {});\n",
              "        if (!dataTable) return;\n",
              "\n",
              "        const docLinkHtml = 'Like what you see? Visit the ' +\n",
              "          '<a target=\"_blank\" href=https://colab.research.google.com/notebooks/data_table.ipynb>data table notebook</a>'\n",
              "          + ' to learn more about interactive tables.';\n",
              "        element.innerHTML = '';\n",
              "        dataTable['output_type'] = 'display_data';\n",
              "        await google.colab.output.renderOutput(dataTable, element);\n",
              "        const docLink = document.createElement('div');\n",
              "        docLink.innerHTML = docLinkHtml;\n",
              "        element.appendChild(docLink);\n",
              "      }\n",
              "    </script>\n",
              "  </div>\n",
              "\n",
              "\n",
              "<div id=\"df-8ffe8877-6efc-4779-ac7f-259b78899fe4\">\n",
              "  <button class=\"colab-df-quickchart\" onclick=\"quickchart('df-8ffe8877-6efc-4779-ac7f-259b78899fe4')\"\n",
              "            title=\"Suggest charts.\"\n",
              "            style=\"display:none;\">\n",
              "\n",
              "<svg xmlns=\"http://www.w3.org/2000/svg\" height=\"24px\"viewBox=\"0 0 24 24\"\n",
              "     width=\"24px\">\n",
              "    <g>\n",
              "        <path d=\"M19 3H5c-1.1 0-2 .9-2 2v14c0 1.1.9 2 2 2h14c1.1 0 2-.9 2-2V5c0-1.1-.9-2-2-2zM9 17H7v-7h2v7zm4 0h-2V7h2v10zm4 0h-2v-4h2v4z\"/>\n",
              "    </g>\n",
              "</svg>\n",
              "  </button>\n",
              "\n",
              "<style>\n",
              "  .colab-df-quickchart {\n",
              "      --bg-color: #E8F0FE;\n",
              "      --fill-color: #1967D2;\n",
              "      --hover-bg-color: #E2EBFA;\n",
              "      --hover-fill-color: #174EA6;\n",
              "      --disabled-fill-color: #AAA;\n",
              "      --disabled-bg-color: #DDD;\n",
              "  }\n",
              "\n",
              "  [theme=dark] .colab-df-quickchart {\n",
              "      --bg-color: #3B4455;\n",
              "      --fill-color: #D2E3FC;\n",
              "      --hover-bg-color: #434B5C;\n",
              "      --hover-fill-color: #FFFFFF;\n",
              "      --disabled-bg-color: #3B4455;\n",
              "      --disabled-fill-color: #666;\n",
              "  }\n",
              "\n",
              "  .colab-df-quickchart {\n",
              "    background-color: var(--bg-color);\n",
              "    border: none;\n",
              "    border-radius: 50%;\n",
              "    cursor: pointer;\n",
              "    display: none;\n",
              "    fill: var(--fill-color);\n",
              "    height: 32px;\n",
              "    padding: 0;\n",
              "    width: 32px;\n",
              "  }\n",
              "\n",
              "  .colab-df-quickchart:hover {\n",
              "    background-color: var(--hover-bg-color);\n",
              "    box-shadow: 0 1px 2px rgba(60, 64, 67, 0.3), 0 1px 3px 1px rgba(60, 64, 67, 0.15);\n",
              "    fill: var(--button-hover-fill-color);\n",
              "  }\n",
              "\n",
              "  .colab-df-quickchart-complete:disabled,\n",
              "  .colab-df-quickchart-complete:disabled:hover {\n",
              "    background-color: var(--disabled-bg-color);\n",
              "    fill: var(--disabled-fill-color);\n",
              "    box-shadow: none;\n",
              "  }\n",
              "\n",
              "  .colab-df-spinner {\n",
              "    border: 2px solid var(--fill-color);\n",
              "    border-color: transparent;\n",
              "    border-bottom-color: var(--fill-color);\n",
              "    animation:\n",
              "      spin 1s steps(1) infinite;\n",
              "  }\n",
              "\n",
              "  @keyframes spin {\n",
              "    0% {\n",
              "      border-color: transparent;\n",
              "      border-bottom-color: var(--fill-color);\n",
              "      border-left-color: var(--fill-color);\n",
              "    }\n",
              "    20% {\n",
              "      border-color: transparent;\n",
              "      border-left-color: var(--fill-color);\n",
              "      border-top-color: var(--fill-color);\n",
              "    }\n",
              "    30% {\n",
              "      border-color: transparent;\n",
              "      border-left-color: var(--fill-color);\n",
              "      border-top-color: var(--fill-color);\n",
              "      border-right-color: var(--fill-color);\n",
              "    }\n",
              "    40% {\n",
              "      border-color: transparent;\n",
              "      border-right-color: var(--fill-color);\n",
              "      border-top-color: var(--fill-color);\n",
              "    }\n",
              "    60% {\n",
              "      border-color: transparent;\n",
              "      border-right-color: var(--fill-color);\n",
              "    }\n",
              "    80% {\n",
              "      border-color: transparent;\n",
              "      border-right-color: var(--fill-color);\n",
              "      border-bottom-color: var(--fill-color);\n",
              "    }\n",
              "    90% {\n",
              "      border-color: transparent;\n",
              "      border-bottom-color: var(--fill-color);\n",
              "    }\n",
              "  }\n",
              "</style>\n",
              "\n",
              "  <script>\n",
              "    async function quickchart(key) {\n",
              "      const quickchartButtonEl =\n",
              "        document.querySelector('#' + key + ' button');\n",
              "      quickchartButtonEl.disabled = true;  // To prevent multiple clicks.\n",
              "      quickchartButtonEl.classList.add('colab-df-spinner');\n",
              "      try {\n",
              "        const charts = await google.colab.kernel.invokeFunction(\n",
              "            'suggestCharts', [key], {});\n",
              "      } catch (error) {\n",
              "        console.error('Error during call to suggestCharts:', error);\n",
              "      }\n",
              "      quickchartButtonEl.classList.remove('colab-df-spinner');\n",
              "      quickchartButtonEl.classList.add('colab-df-quickchart-complete');\n",
              "    }\n",
              "    (() => {\n",
              "      let quickchartButtonEl =\n",
              "        document.querySelector('#df-8ffe8877-6efc-4779-ac7f-259b78899fe4 button');\n",
              "      quickchartButtonEl.style.display =\n",
              "        google.colab.kernel.accessAllowed ? 'block' : 'none';\n",
              "    })();\n",
              "  </script>\n",
              "</div>\n",
              "    </div>\n",
              "  </div>\n"
            ]
          },
          "metadata": {},
          "execution_count": 26
        }
      ],
      "source": [
        "#Adicionamos una nueva columna (Promedio) al dataframe original 'df_bitcoin' en la cual almacenamos el valor de nuestra variable media_bitcoin.\n",
        "df_bitcoin['Promedio'] = media_bitcoin\n",
        "df_bitcoin.head()\n"
      ]
    },
    {
      "cell_type": "code",
      "execution_count": 27,
      "metadata": {
        "id": "lQ-_dMrGMt0H"
      },
      "outputs": [],
      "source": [
        "#Creamos la función visualizacion()\n",
        "def visualizacion():\n",
        "  global df_bitcoin, precio_actual, tendencia, media_bitcoin, algoritmo_decision\n",
        "  df_bitcoin['Promedio'] = media_bitcoin\n",
        "  #Algoritmo para dar color al texto de la variable 'algoritmo_decision'\n",
        "  if algoritmo_decision == 'Vender':\n",
        "      color_decision = 'green'\n",
        "  elif algoritmo_decision =='Comprar':\n",
        "      color_decision = 'red'\n",
        "  else:\n",
        "      color_decision = 'brown'\n",
        "  #Configuramos el tamaño del gráfico en una proporción de 16x5,damos color al fondo del gráfico\n",
        "  plt.rc('figure',figsize = (16,5),facecolor='#E8DEE1')\n",
        "  #Agregamos un título al gráfico y a los ejes x,y\n",
        "  plt.title('GRAFICO PARA DECIDIR COMPRA-VENTA DE BITCOIN',fontsize=20,weight = 'bold')\n",
        "  plt.xlabel('Fecha')\n",
        "  plt.ylabel('Precio Actual en USD')\n",
        "  #Con el método plot()dibujamos una línea en el gráfico, con los datos del índice y la columna 'Close' de la base\n",
        "  #df_bitcoin,nombramos etiqueta,damos estilo y color a dicha línea\n",
        "  plt.plot(df_bitcoin.index, df_bitcoin['Close'], label='Precio de Cierre', linestyle='-', color='Blue')\n",
        "  #Con el método plot()dibujamos una línea en el gráfico, con los datos del índice y la columna 'Promedio' de la base\n",
        "  #df_bitcoin,nombramos etiqueta y damos estilo y color\n",
        "  plt.plot(df_bitcoin.index, df_bitcoin['Promedio'], label='Precio Promedio', linestyle='dashdot', color='Red')\n",
        "  #Con el método annotate()muestra un mensaje dentro del gráfico con la decisión calculada del algoritmo_decision,\n",
        "  #damos al texto tamaño, color y resaltamos\n",
        "  plt.annotate(f'Decision: {algoritmo_decision}',xy=(df_bitcoin.index[-1], 33600), fontsize=12,\n",
        "               color=color_decision,weight = 'bold')\n",
        "  #Agregamos leyendas al gráfico\n",
        "  plt.legend()\n",
        "  #Agregamos cuadrículas al gráfico, para observar mejor las intersecciones de los ejes\n",
        "  plt.grid()\n",
        "  #Finalmente, usando el método show() mostramos en pantalla el gráfico que acabamos de configurar.\n",
        "  plt.show()\n"
      ]
    },
    {
      "cell_type": "code",
      "execution_count": 28,
      "metadata": {
        "colab": {
          "base_uri": "https://localhost:8080/",
          "height": 330
        },
        "id": "fKH3wDKemZeF",
        "outputId": "eefb82de-dd7a-45b5-dddb-66fdd967d6c1"
      },
      "outputs": [
        {
          "output_type": "display_data",
          "data": {
            "text/plain": [
              "<Figure size 1600x500 with 1 Axes>"
            ],
            "image/png": "[encoded data removed]"
          },
          "metadata": {}
        }
      ],
      "source": [
        "visualizacion()"
      ]
    },
    {
      "cell_type": "markdown",
      "metadata": {
        "id": "4Zaste1DZIw3"
      },
      "source": [
        "##6- Automatización\n",
        "\n",
        "El trabajo termina cuando la solución al problema está automatizada, esto permite soluciones automáticas para nuevos lotes de información.\n",
        "\n",
        "Importaremos el método `clear_output()` y la biblioteca `time ` para construir un loop infinito que ejecute permanentemente y en intervalos de 5 minutos, las funciones que hemos construído en los pasos 2 al 5 de nuestro proyecto.\n"
      ]
    },
    {
      "cell_type": "code",
      "execution_count": null,
      "metadata": {
        "colab": {
          "base_uri": "https://localhost:8080/",
          "height": 347
        },
        "id": "Cz55dIE7UwOT",
        "outputId": "81b231d4-95cc-4ae1-8fcb-f3d0c8b17eac"
      },
      "outputs": [
        {
          "output_type": "stream",
          "name": "stdout",
          "text": [
            "\r[*********************100%%**********************]  1 of 1 completed\n"
          ]
        },
        {
          "output_type": "display_data",
          "data": {
            "text/plain": [
              "<Figure size 1600x500 with 1 Axes>"
            ],
            "image/png": "[encoded data removed]"
          },
          "metadata": {}
        }
      ],
      "source": [
        "#Importamos el método 'clear_output()', este método nos permite borrar los resultados de la pantalla antes de imprimir\n",
        "#un nuevo gráfico, y así evitar tener más de un gráfico en la pantalla\n",
        "from IPython.display import clear_output\n",
        "#Importamos la biblioteca ‘time’, usamos su método time.sleep(300) para interrumpir la ejecución del código\n",
        "#cada 300 segundos o 5 minutos.\n",
        "import time\n",
        "#Finalmente creamos un loop infinito:\n",
        "while(True):\n",
        "  clear_output()\n",
        "  importar_base_bitcoin()\n",
        "  extraer_tendencias()\n",
        "  limpieza_datos()\n",
        "  tomar_decisiones()\n",
        "  visualizacion()\n",
        "  time.sleep(300)"
      ]
    }
  ],
  "metadata": {
    "colab": {
      "toc_visible": true,
      "provenance": [],
      "authorship_tag": "ABX9TyPE6enKF4uHWvOO+SClMjYT",
      "include_colab_link": true
    },
    "kernelspec": {
      "display_name": "Python 3",
      "name": "python3"
    },
    "language_info": {
      "name": "python"
    }
  },
  "nbformat": 4,
  "nbformat_minor": 0
}